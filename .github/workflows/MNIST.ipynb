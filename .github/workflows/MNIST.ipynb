{
 "cells": [
  {
   "cell_type": "code",
   "execution_count": 4,
   "id": "efd25050",
   "metadata": {},
   "outputs": [
    {
     "name": "stderr",
     "output_type": "stream",
     "text": [
      "2024-04-01 13:34:08.090598: I tensorflow/core/platform/cpu_feature_guard.cc:182] This TensorFlow binary is optimized to use available CPU instructions in performance-critical operations.\n",
      "To enable the following instructions: AVX2 FMA, in other operations, rebuild TensorFlow with the appropriate compiler flags.\n"
     ]
    }
   ],
   "source": [
    "import tensorflow as tf\n",
    "from tensorflow.keras import datasets,layers,models\n",
    "import matplotlib.pyplot as plt\n",
    "from tensorflow.keras.regularizers import l2\n",
    "from tensorflow.keras.callbacks import EarlyStopping\n",
    "from tensorflow.keras.preprocessing.image import ImageDataGenerator"
   ]
  },
  {
   "cell_type": "code",
   "execution_count": 2,
   "id": "93e47cf1",
   "metadata": {},
   "outputs": [],
   "source": [
    "(train_images,train_labels),(test_images,test_labels) = datasets.mnist.load_data()"
   ]
  },
  {
   "cell_type": "code",
   "execution_count": 3,
   "id": "e85fbada",
   "metadata": {},
   "outputs": [],
   "source": [
    "val_p = 0.2\n",
    "num_val = int(len(train_images) * val_p)\n",
    "x_train, x_val = train_images[:-num_val], train_images[-num_val:]\n",
    "y_train, y_val = train_labels[:-num_val], train_labels[-num_val:]\n",
    "\n",
    "train_dataset = tf.data.Dataset.from_tensor_slices((x_train, y_train)).shuffle(len(train_images)).batch(32)\n",
    "val_dataset = tf.data.Dataset.from_tensor_slices((x_val, y_val)).shuffle(len(x_val)).batch(32)  # 使用 x_val 的长度\n",
    "test_dataset = tf.data.Dataset.from_tensor_slices((test_images, test_labels)).batch(32)"
   ]
  },
  {
   "cell_type": "code",
   "execution_count": 4,
   "id": "16a1c27c",
   "metadata": {},
   "outputs": [],
   "source": [
    "train_images,test_images = train_images/255.0,test_images/255.0"
   ]
  },
  {
   "cell_type": "code",
   "execution_count": 5,
   "id": "8dd169fa",
   "metadata": {},
   "outputs": [
    {
     "data": {
      "image/png": "[encoded data removed]",
      "text/plain": [
       "<Figure size 2000x1000 with 20 Axes>"
      ]
     },
     "metadata": {},
     "output_type": "display_data"
    }
   ],
   "source": [
    "plt.figure(figsize=(20,10))\n",
    "for i in range(20):\n",
    "    plt.subplot(5,10,i+1)\n",
    "    plt.xticks([])\n",
    "    plt.yticks([])\n",
    "    plt.grid(False)\n",
    "    plt.imshow(train_images[i],cmap=plt.cm.binary)\n",
    "    plt.xlabel(train_labels[i])\n",
    "plt.show()"
   ]
  },
  {
   "cell_type": "code",
   "execution_count": 6,
   "id": "638e6b7c",
   "metadata": {
    "scrolled": true
   },
   "outputs": [
    {
     "data": {
      "text/plain": [
       "(<_BatchDataset element_spec=(TensorSpec(shape=(None, 28, 28), dtype=tf.uint8, name=None), TensorSpec(shape=(None,), dtype=tf.uint8, name=None))>,\n",
       " <_BatchDataset element_spec=(TensorSpec(shape=(None, 28, 28), dtype=tf.uint8, name=None), TensorSpec(shape=(None,), dtype=tf.uint8, name=None))>,\n",
       " <_BatchDataset element_spec=(TensorSpec(shape=(None, 28, 28), dtype=tf.uint8, name=None), TensorSpec(shape=(None,), dtype=tf.uint8, name=None))>)"
      ]
     },
     "execution_count": 6,
     "metadata": {},
     "output_type": "execute_result"
    }
   ],
   "source": [
    "train_images = train_images.reshape((60000,28,28,1))\n",
    "test_images = test_images.reshape(10000,28,28,1)\n",
    "\n",
    "train_dataset,val_dataset,test_dataset"
   ]
  },
  {
   "cell_type": "code",
   "execution_count": 7,
   "id": "e6f3d290",
   "metadata": {},
   "outputs": [],
   "source": [
    "'''\n",
    "        conv - relu - conv- relu - pool -\n",
    "        conv - relu - conv- relu - pool -\n",
    "        conv - relu - conv- relu - pool -\n",
    "        affine - relu - dropout - affine - dropout - softmax\n",
    "'''\n",
    "model = models.Sequential()\n",
    "\n",
    "\n",
    "model.add(layers.Conv2D(16, kernel_size=(3, 3), activation='relu', input_shape=(28, 28, 1), kernel_regularizer=l2(0.001)))\n",
    "model.add(layers.Conv2D(16, (3, 3), activation='relu'))\n",
    "model.add(layers.MaxPool2D(2, 2))\n",
    "\n",
    "model.add(layers.Conv2D(32, (3, 3), activation='relu'))\n",
    "model.add(layers.Conv2D(32, (1, 1), activation='relu'))\n",
    "model.add(layers.MaxPool2D(2, 2))\n",
    "\n",
    "model.add(layers.Conv2D(64, (3, 3), activation='relu'))\n",
    "model.add(layers.Conv2D(64, (3, 3), activation='relu'))\n",
    "model.add(layers.Flatten())\n",
    "model.add(layers.Dense(200, activation='relu'))\n",
    "model.add(layers.Dropout(0.5))\n",
    "model.add(layers.Dense(10))\n"
   ]
  },
  {
   "cell_type": "code",
   "execution_count": 8,
   "id": "75e1f544",
   "metadata": {
    "scrolled": false
   },
   "outputs": [
    {
     "name": "stdout",
     "output_type": "stream",
     "text": [
      "Model: \"sequential\"\n",
      "_________________________________________________________________\n",
      " Layer (type)                Output Shape              Param #   \n",
      "=================================================================\n",
      " conv2d (Conv2D)             (None, 26, 26, 16)        160       \n",
      "                                                                 \n",
      " conv2d_1 (Conv2D)           (None, 24, 24, 16)        2320      \n",
      "                                                                 \n",
      " max_pooling2d (MaxPooling2  (None, 12, 12, 16)        0         \n",
      " D)                                                              \n",
      "                                                                 \n",
      " conv2d_2 (Conv2D)           (None, 10, 10, 32)        4640      \n",
      "                                                                 \n",
      " conv2d_3 (Conv2D)           (None, 10, 10, 32)        1056      \n",
      "                                                                 \n",
      " max_pooling2d_1 (MaxPoolin  (None, 5, 5, 32)          0         \n",
      " g2D)                                                            \n",
      "                                                                 \n",
      " conv2d_4 (Conv2D)           (None, 3, 3, 64)          18496     \n",
      "                                                                 \n",
      " conv2d_5 (Conv2D)           (None, 1, 1, 64)          36928     \n",
      "                                                                 \n",
      " flatten (Flatten)           (None, 64)                0         \n",
      "                                                                 \n",
      " dense (Dense)               (None, 200)               13000     \n",
      "                                                                 \n",
      " dropout (Dropout)           (None, 200)               0         \n",
      "                                                                 \n",
      " dense_1 (Dense)             (None, 10)                2010      \n",
      "                                                                 \n",
      "=================================================================\n",
      "Total params: 78610 (307.07 KB)\n",
      "Trainable params: 78610 (307.07 KB)\n",
      "Non-trainable params: 0 (0.00 Byte)\n",
      "_________________________________________________________________\n"
     ]
    }
   ],
   "source": [
    "model.summary()"
   ]
  },
  {
   "cell_type": "code",
   "execution_count": 9,
   "id": "2fde3a7a",
   "metadata": {},
   "outputs": [],
   "source": [
    "model.compile(optimizer='Adam',\n",
    "              loss=tf.keras.losses.SparseCategoricalCrossentropy(from_logits=True),\n",
    "              metrics=['accuracy'])"
   ]
  },
  {
   "cell_type": "code",
   "execution_count": 10,
   "id": "59787695",
   "metadata": {},
   "outputs": [],
   "source": [
    "import time\n",
    "import os\n",
    "from tensorflow.keras.callbacks import TensorBoard\n",
    "model_name = \"model-{}\".format(int(time.time()))\n",
    "logdir = os.path.join('logs', model_name)\n",
    "if not os.path.exists(logdir):\n",
    "    os.makedirs(logdir)\n",
    "\n",
    "tensorboard = TensorBoard(log_dir=logdir, histogram_freq=1, write_graph=True, write_images=True, update_freq='epoch')"
   ]
  },
  {
   "cell_type": "code",
   "execution_count": 12,
   "id": "9e31fcb6",
   "metadata": {},
   "outputs": [],
   "source": [
    "x_train = x_train.reshape((x_train.shape[0], 28, 28, 1))  # 添加通道维度\n",
    "train_datagen = ImageDataGenerator(rescale=1./255,\n",
    "                                rotation_range=10,\n",
    "                                width_shift_range=0.1,\n",
    "                                height_shift_range=0.1,\n",
    "                                horizontal_flip=True,\n",
    "                                fill_mode='nearest',\n",
    "                                # 添加更多的数据增强技术\n",
    "                                zoom_range=0.2)  # 随机缩放\n",
    "train_generator = train_datagen.flow(x_train, y_train, batch_size=32)\n",
    "\n",
    "\n",
    "\n",
    "early_stopping = EarlyStopping(monitor='val_loss', patience=7)"
   ]
  },
  {
   "cell_type": "code",
   "execution_count": 13,
   "id": "91898967",
   "metadata": {
    "scrolled": true
   },
   "outputs": [
    {
     "name": "stdout",
     "output_type": "stream",
     "text": [
      "Epoch 1/15\n",
      "1500/1500 [==============================] - 38s 24ms/step - loss: 0.6567 - accuracy: 0.7746 - val_loss: 19.0099 - val_accuracy: 0.9578\n",
      "Epoch 2/15\n",
      "1500/1500 [==============================] - 37s 25ms/step - loss: 0.2548 - accuracy: 0.9234 - val_loss: 11.4012 - val_accuracy: 0.9773\n",
      "Epoch 3/15\n",
      "1500/1500 [==============================] - 38s 25ms/step - loss: 0.1920 - accuracy: 0.9437 - val_loss: 11.6119 - val_accuracy: 0.9778\n",
      "Epoch 4/15\n",
      "1500/1500 [==============================] - 38s 25ms/step - loss: 0.1588 - accuracy: 0.9527 - val_loss: 8.4445 - val_accuracy: 0.9792\n",
      "Epoch 5/15\n",
      "1500/1500 [==============================] - 38s 25ms/step - loss: 0.1418 - accuracy: 0.9585 - val_loss: 9.0826 - val_accuracy: 0.9805\n",
      "Epoch 6/15\n",
      "1500/1500 [==============================] - 38s 25ms/step - loss: 0.1242 - accuracy: 0.9629 - val_loss: 9.2661 - val_accuracy: 0.9822\n",
      "Epoch 7/15\n",
      "1500/1500 [==============================] - 39s 26ms/step - loss: 0.1178 - accuracy: 0.9661 - val_loss: 9.8264 - val_accuracy: 0.9794\n",
      "Epoch 8/15\n",
      "1500/1500 [==============================] - 44s 30ms/step - loss: 0.1115 - accuracy: 0.9671 - val_loss: 7.8371 - val_accuracy: 0.9817\n",
      "Epoch 9/15\n",
      "1500/1500 [==============================] - 42s 28ms/step - loss: 0.1072 - accuracy: 0.9692 - val_loss: 10.7464 - val_accuracy: 0.9782\n",
      "Epoch 10/15\n",
      "1500/1500 [==============================] - 41s 27ms/step - loss: 0.0985 - accuracy: 0.9711 - val_loss: 9.0446 - val_accuracy: 0.9834\n",
      "Epoch 11/15\n",
      "1500/1500 [==============================] - 41s 28ms/step - loss: 0.0978 - accuracy: 0.9719 - val_loss: 7.3435 - val_accuracy: 0.9827\n",
      "Epoch 12/15\n",
      "1500/1500 [==============================] - 42s 28ms/step - loss: 0.0941 - accuracy: 0.9726 - val_loss: 11.1117 - val_accuracy: 0.9776\n",
      "Epoch 13/15\n",
      "1500/1500 [==============================] - 43s 28ms/step - loss: 0.0905 - accuracy: 0.9728 - val_loss: 11.9323 - val_accuracy: 0.9758\n",
      "Epoch 14/15\n",
      "1500/1500 [==============================] - 42s 28ms/step - loss: 0.0889 - accuracy: 0.9739 - val_loss: 10.0454 - val_accuracy: 0.9777\n",
      "Epoch 15/15\n",
      "1500/1500 [==============================] - 42s 28ms/step - loss: 0.0852 - accuracy: 0.9749 - val_loss: 9.2894 - val_accuracy: 0.9790\n"
     ]
    }
   ],
   "source": [
    "history = model.fit(train_generator, epochs=15, validation_data=(val_dataset), steps_per_epoch=len(x_train)//32, callbacks=[early_stopping, tensorboard])"
   ]
  },
  {
   "cell_type": "code",
   "execution_count": 14,
   "id": "7da596a0",
   "metadata": {},
   "outputs": [
    {
     "name": "stderr",
     "output_type": "stream",
     "text": [
      "/Users/williamtiger/opt/anaconda3/lib/python3.9/site-packages/keras/src/engine/training.py:3103: UserWarning: You are saving your model as an HDF5 file via `model.save()`. This file format is considered legacy. We recommend using instead the native Keras format, e.g. `model.save('my_model.keras')`.\n",
      "  saving_api.save_model(\n"
     ]
    }
   ],
   "source": [
    "from datetime import datetime\n",
    "current_time = datetime.now()\n",
    "model.save(str(current_time)+'.h5')"
   ]
  },
  {
   "cell_type": "code",
   "execution_count": 15,
   "id": "487f851b",
   "metadata": {
    "scrolled": false
   },
   "outputs": [
    {
     "data": {
      "image/png": "[encoded data removed]",
      "text/plain": [
       "<Figure size 800x500 with 1 Axes>"
      ]
     },
     "metadata": {},
     "output_type": "display_data"
    }
   ],
   "source": [
    "import pandas as pd\n",
    "pd.DataFrame(history.history).plot(figsize=(8, 5))\n",
    "plt.grid(True)\n",
    "plt.xlabel('epoch')\n",
    "plt.show()"
   ]
  },
  {
   "cell_type": "code",
   "execution_count": 16,
   "id": "27e49404",
   "metadata": {},
   "outputs": [
    {
     "name": "stdout",
     "output_type": "stream",
     "text": [
      "313/313 [==============================] - 1s 4ms/step - loss: 8.3443 - accuracy: 0.9809\n"
     ]
    },
    {
     "data": {
      "text/plain": [
       "(8.344255447387695, 0.98089998960495)"
      ]
     },
     "execution_count": 16,
     "metadata": {},
     "output_type": "execute_result"
    }
   ],
   "source": [
    "test_loss, test_acc = model.evaluate(test_dataset)\n",
    "test_loss,test_acc"
   ]
  },
  {
   "cell_type": "code",
   "execution_count": 5,
   "id": "65900158",
   "metadata": {},
   "outputs": [],
   "source": [
    "model = tf.keras.models.load_model('2024-03-29 16:42:41.299832.h5')"
   ]
  },
  {
   "cell_type": "code",
   "execution_count": 6,
   "id": "aa116024",
   "metadata": {},
   "outputs": [
    {
     "name": "stdout",
     "output_type": "stream",
     "text": [
      "1/1 [==============================] - 0s 227ms/step\n",
      "Predicted number for image 1: 1\n",
      "1/1 [==============================] - 0s 15ms/step\n",
      "Predicted number for image 2: 2\n",
      "1/1 [==============================] - 0s 15ms/step\n",
      "Predicted number for image 3: 3\n",
      "1/1 [==============================] - 0s 20ms/step\n",
      "Predicted number for image 4: 4\n",
      "1/1 [==============================] - 0s 16ms/step\n",
      "Predicted number for image 5: 5\n",
      "1/1 [==============================] - 0s 17ms/step\n",
      "Predicted number for image 6: 6\n",
      "1/1 [==============================] - 0s 17ms/step\n",
      "Predicted number for image 7: 7\n",
      "1/1 [==============================] - 0s 15ms/step\n",
      "Predicted number for image 8: 8\n",
      "1/1 [==============================] - 0s 17ms/step\n",
      "Predicted number for image 9: 9\n"
     ]
    }
   ],
   "source": [
    "import numpy as np\n",
    "from PIL import Image\n",
    "\n",
    "# 定义类别名称\n",
    "class_names = ['0', '1', '2', '3', '4', '5', '6', '7', '8', '9']\n",
    "\n",
    "# 循环处理每个图像\n",
    "for i in range(1, 10):  # 假设您有数字1到10的图像\n",
    "    image = Image.open(str(i) + \".jpg\").convert('L')\n",
    "    new_size = (28, 28)\n",
    "    image = image.resize(new_size)\n",
    "    image.save('test.jpg')\n",
    "    image_array = np.array(image)\n",
    "    image_array = np.expand_dims(image_array, axis=0)\n",
    "    image_array = image_array.astype('float32')\n",
    "    image_array /= 255.0  # 归一化\n",
    "\n",
    "    # 模型预测\n",
    "    pre = model.predict(image_array)\n",
    "    predicted_class_index = np.argmax(pre)\n",
    "    predicted_class = class_names[predicted_class_index]\n",
    "    print(f\"Predicted number for image {i}: {predicted_class}\")"
   ]
  },
  {
   "cell_type": "code",
   "execution_count": 8,
   "id": "bed708fe",
   "metadata": {},
   "outputs": [
    {
     "name": "stdout",
     "output_type": "stream",
     "text": [
      "1/1 [==============================] - 0s 139ms/step\n",
      "Predicted number for image 3: 8\n"
     ]
    }
   ],
   "source": [
    "image = Image.open(\"test.jpg\").convert('L')\n",
    "new_size = (28, 28)\n",
    "image = image.resize(new_size)\n",
    "image.save('test.jpg')\n",
    "image_array = np.array(image)\n",
    "image_array = np.expand_dims(image_array, axis=0)\n",
    "image_array = image_array.astype('float32')\n",
    "image_array /= 255.0  # 归一化\n",
    "# 模型预测\n",
    "pre = model.predict(image_array)\n",
    "predicted_class_index = np.argmax(pre)\n",
    "predicted_class = class_names[predicted_class_index]\n",
    "print(f\"Predicted number for image {3}: {predicted_class}\")"
   ]
  }
 ],
 "metadata": {
  "kernelspec": {
   "display_name": "Python 3 (ipykernel)",
   "language": "python",
   "name": "python3"
  },
  "language_info": {
   "codemirror_mode": {
    "name": "ipython",
    "version": 3
   },
   "file_extension": ".py",
   "mimetype": "text/x-python",
   "name": "python",
   "nbconvert_exporter": "python",
   "pygments_lexer": "ipython3",
   "version": "3.9.13"
  }
 },
 "nbformat": 4,
 "nbformat_minor": 5
}
